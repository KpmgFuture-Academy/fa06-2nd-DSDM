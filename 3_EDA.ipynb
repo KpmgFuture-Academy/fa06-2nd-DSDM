{
 "cells": [
  {
   "cell_type": "code",
   "execution_count": 2,
   "id": "1298c600",
   "metadata": {},
   "outputs": [],
   "source": [
    "import pandas as pd\n",
    "pd.set_option('display.expand_frame_repr', False)"
   ]
  },
  {
   "cell_type": "markdown",
   "id": "a2573714",
   "metadata": {},
   "source": [
    "# Test + Segment 병합"
   ]
  },
  {
   "cell_type": "code",
   "execution_count": null,
   "id": "0837c61b",
   "metadata": {},
   "outputs": [
    {
     "name": "stderr",
     "output_type": "stream",
     "text": [
      "C:\\Users\\Admin\\AppData\\Local\\Temp\\ipykernel_17384\\486659425.py:4: DtypeWarning: Columns (298) have mixed types. Specify dtype option on import or set low_memory=False.\n",
      "  test = pd.read_csv('test/base_test.csv')\n"
     ]
    },
    {
     "name": "stdout",
     "output_type": "stream",
     "text": [
      "          기준년월          ID  남녀구분코드   연령  회원여부_이용가능  회원여부_이용가능_CA  회원여부_이용가능_카드론  소지여부_신용  소지카드수_유효_신용  소지카드수_이용가능_신용  ...  변동률_RV일시불평잔  변동률_할부평잔  변동률_CA평잔  변동률_RVCA평잔  변동률_카드론평잔  변동률_잔액_B1M  변동률_잔액_일시불_B1M  변동률_잔액_CA_B1M  혜택수혜율_R3M  혜택수혜율_B0M\n",
      "0       201807  TEST_00000       1  40대          1             1              0        1            2              2  ...     0.999998  0.999998  0.999998    0.999998   0.999998    0.209395        0.231043            0.0   1.332770   1.780392\n",
      "1       201807  TEST_00001       1  60대          1             1              0        1            1              1  ...     0.999998  1.044473  1.991974    0.999998   0.926569   -0.269161       -0.247241            0.0   0.000000   0.000000\n",
      "2       201807  TEST_00002       1  40대          1             1              1        1            2              2  ...     0.999998  1.053083  0.999998    0.999998   0.999998   -0.120290        0.029270            0.0   4.123738   5.115589\n",
      "3       201807  TEST_00003       2  40대          1             1              1        1            1              1  ...     0.999998  1.991630  0.999998    0.999998   0.999998    0.035807       -0.013359            0.0   0.093615   0.349994\n",
      "4       201807  TEST_00004       2  40대          1             0              1        1            1              1  ...     0.999998  1.053743  0.999998    0.999998   0.999998   -0.538740       -0.449378            0.0   0.000000   0.000000\n",
      "...        ...         ...     ...  ...        ...           ...            ...      ...          ...            ...  ...          ...       ...       ...         ...        ...         ...             ...            ...        ...        ...\n",
      "599995  201812  TEST_99995       2  60대          0             0              0        0            0              0  ...     0.999998  0.999998  0.999998    0.999998   0.999998    0.000000        0.000000            0.0        NaN        NaN\n",
      "599996  201812  TEST_99996       1  30대          1             1              1        1            1              1  ...     0.999998  0.999998  0.999998    0.999998   0.999998    0.143554        0.233616            0.0   8.564683  11.379632\n",
      "599997  201812  TEST_99997       2  30대          1             1              1        1            1              1  ...     0.000000  0.000000  0.000000    0.000000   0.000000    0.000000        0.000000            0.0        NaN        NaN\n",
      "599998  201812  TEST_99998       1  30대          1             1              1        1            3              3  ...     0.999998  0.333183  0.999998    0.999998   0.999998   -0.038153       -0.106142            0.0  -0.241530   0.499079\n",
      "599999  201812  TEST_99999       1  30대          1             1              1        1            1              1  ...     0.999998  0.999998  0.999998    0.999998   0.999998    0.000000        0.000000            0.0   0.000000   0.000000\n",
      "\n",
      "[600000 rows x 857 columns]\n",
      "               ID Segment\n",
      "0      TEST_00000       D\n",
      "1      TEST_00001       E\n",
      "2      TEST_00002       E\n",
      "3      TEST_00003       E\n",
      "4      TEST_00004       E\n",
      "...           ...     ...\n",
      "99995  TEST_99995       E\n",
      "99996  TEST_99996       E\n",
      "99997  TEST_99997       E\n",
      "99998  TEST_99998       C\n",
      "99999  TEST_99999       E\n",
      "\n",
      "[100000 rows x 2 columns]\n"
     ]
    }
   ],
   "source": [
    "test = pd.read_csv('test/base_test.csv')\n",
    "seg = pd.read_csv('test/final_catboost.csv')\n",
    "print(test)\n",
    "print(seg)"
   ]
  },
  {
   "cell_type": "code",
   "execution_count": 3,
   "id": "d5bb2938",
   "metadata": {},
   "outputs": [
    {
     "name": "stdout",
     "output_type": "stream",
     "text": [
      "Index(['기준년월', 'ID', '남녀구분코드', '연령', 'Segment', '회원여부_이용가능', '회원여부_이용가능_CA',\n",
      "       '회원여부_이용가능_카드론', '소지여부_신용', '소지카드수_유효_신용'],\n",
      "      dtype='object')\n"
     ]
    }
   ],
   "source": [
    "train = pd.read_csv('train/base_train.csv', usecols=[0,1,2,3,4,5,6,7,8,9])\n",
    "print(train.columns)"
   ]
  },
  {
   "cell_type": "code",
   "execution_count": 8,
   "id": "46e3a766",
   "metadata": {},
   "outputs": [
    {
     "name": "stdout",
     "output_type": "stream",
     "text": [
      "(100000, 2)\n",
      "(100000, 2)\n",
      "          기준년월          ID  남녀구분코드   연령 Segment  회원여부_이용가능  회원여부_이용가능_CA  회원여부_이용가능_카드론  소지여부_신용  소지카드수_유효_신용  ...  변동률_RV일시불평잔  변동률_할부평잔  변동률_CA평잔  변동률_RVCA평잔  변동률_카드론평잔  변동률_잔액_B1M  변동률_잔액_일시불_B1M  변동률_잔액_CA_B1M  혜택수혜율_R3M  혜택수혜율_B0M\n",
      "0       201807  TEST_00000       1  40대       D          1             1              0        1            2  ...     0.999998  0.999998  0.999998    0.999998   0.999998    0.209395        0.231043            0.0   1.332770   1.780392\n",
      "1       201807  TEST_00001       1  60대       E          1             1              0        1            1  ...     0.999998  1.044473  1.991974    0.999998   0.926569   -0.269161       -0.247241            0.0   0.000000   0.000000\n",
      "2       201807  TEST_00002       1  40대       E          1             1              1        1            2  ...     0.999998  1.053083  0.999998    0.999998   0.999998   -0.120290        0.029270            0.0   4.123738   5.115589\n",
      "3       201807  TEST_00003       2  40대       E          1             1              1        1            1  ...     0.999998  1.991630  0.999998    0.999998   0.999998    0.035807       -0.013359            0.0   0.093615   0.349994\n",
      "4       201807  TEST_00004       2  40대       E          1             0              1        1            1  ...     0.999998  1.053743  0.999998    0.999998   0.999998   -0.538740       -0.449378            0.0   0.000000   0.000000\n",
      "...        ...         ...     ...  ...     ...        ...           ...            ...      ...          ...  ...          ...       ...       ...         ...        ...         ...             ...            ...        ...        ...\n",
      "599995  201812  TEST_99995       2  60대       E          0             0              0        0            0  ...     0.999998  0.999998  0.999998    0.999998   0.999998    0.000000        0.000000            0.0        NaN        NaN\n",
      "599996  201812  TEST_99996       1  30대       E          1             1              1        1            1  ...     0.999998  0.999998  0.999998    0.999998   0.999998    0.143554        0.233616            0.0   8.564683  11.379632\n",
      "599997  201812  TEST_99997       2  30대       E          1             1              1        1            1  ...     0.000000  0.000000  0.000000    0.000000   0.000000    0.000000        0.000000            0.0        NaN        NaN\n",
      "599998  201812  TEST_99998       1  30대       C          1             1              1        1            3  ...     0.999998  0.333183  0.999998    0.999998   0.999998   -0.038153       -0.106142            0.0  -0.241530   0.499079\n",
      "599999  201812  TEST_99999       1  30대       E          1             1              1        1            1  ...     0.999998  0.999998  0.999998    0.999998   0.999998    0.000000        0.000000            0.0   0.000000   0.000000\n",
      "\n",
      "[600000 rows x 858 columns]\n"
     ]
    }
   ],
   "source": [
    "print(seg.shape)\n",
    "seg_uniq = seg.copy()\n",
    "seg_uniq = seg_uniq.drop_duplicates('ID', keep='last')\n",
    "print(seg_uniq.shape)\n",
    "merged = test.merge(seg_uniq[['ID', 'Segment']], on='ID', how='left')\n",
    "\n",
    "# 같은 이름의 컬럼을 같은 자리에 다시 넣으려면 pop→insert 패턴이 안전\n",
    "merged.insert(4, 'Segment', merged.pop('Segment'))  # 0-based라 2는 3번째 칼럼\n",
    "print(merged)\n",
    "merged.to_csv('test/base_test_merged_seg.csv', encoding='cp949', index=False)"
   ]
  },
  {
   "cell_type": "markdown",
   "id": "ccc78df9",
   "metadata": {},
   "source": [
    "# EDA - train 데이터 구경"
   ]
  },
  {
   "cell_type": "code",
   "execution_count": 8,
   "id": "f71668b8",
   "metadata": {},
   "outputs": [
    {
     "name": "stderr",
     "output_type": "stream",
     "text": [
      "C:\\Users\\Admin\\AppData\\Local\\Temp\\ipykernel_14352\\1127257162.py:1: DtypeWarning: Columns (299,384) have mixed types. Specify dtype option on import or set low_memory=False.\n",
      "  train = pd.read_csv('train/base_train.csv')\n"
     ]
    },
    {
     "name": "stdout",
     "output_type": "stream",
     "text": [
      "           기준년월            ID  남녀구분코드     연령 Segment  회원여부_이용가능  회원여부_이용가능_CA  회원여부_이용가능_카드론  소지여부_신용  소지카드수_유효_신용  ...  변동률_RV일시불평잔  변동률_할부평잔  변동률_CA평잔  변동률_RVCA평잔  변동률_카드론평잔  변동률_잔액_B1M  변동률_잔액_일시불_B1M  변동률_잔액_CA_B1M  혜택수혜율_R3M  혜택수혜율_B0M\n",
      "0        201807  TRAIN_000000       2    40대       D          1             1              0        1            1  ...     0.999998  1.042805  0.999700    0.999998   0.999998    0.261886        0.270752       0.000000   1.044401   1.280543\n",
      "1        201807  TRAIN_000001       1    30대       E          1             1              1        1            1  ...     1.092698  0.905663  0.999998    0.999998   0.999998   -0.563388       -0.670348       0.000000   0.000000   0.000000\n",
      "2        201807  TRAIN_000002       1    30대       C          1             1              0        1            1  ...     1.006124  1.993590  0.852567    0.999998   0.999998   -0.046516        0.058114      -0.014191   0.524159   1.208420\n",
      "3        201807  TRAIN_000003       2    40대       D          1             1              0        1            2  ...     0.999998  1.050646  0.999877    0.999998   0.999998    0.023821        0.258943       0.000000   0.880925   1.657124\n",
      "4        201807  TRAIN_000004       2    40대       E          1             1              1        1            1  ...     0.999998  0.999998  0.999998    0.999998   0.999998    0.000000        0.000000       0.000000        NaN        NaN\n",
      "...         ...           ...     ...    ...     ...        ...           ...            ...      ...          ...  ...          ...       ...       ...         ...        ...         ...             ...            ...        ...        ...\n",
      "2399995  201812  TRAIN_399995       2  70대이상       E          1             1              1        1            1  ...     0.999998  0.999998  0.999998    0.999998   0.999998    0.000000        0.000000       0.000000        NaN        NaN\n",
      "2399996  201812  TRAIN_399996       2    50대       D          1             1              1        1            1  ...     0.999998  0.999998  0.999998    0.999998   0.921733   -0.203251       -0.159143       0.000000   1.377071   2.533815\n",
      "2399997  201812  TRAIN_399997       1    30대       C          1             1              0        1            1  ...     0.999998  0.345027  0.999998    0.999998   0.999998    0.027319        0.126581       0.000000   0.000000   0.000000\n",
      "2399998  201812  TRAIN_399998       1    40대       E          1             1              1        1            1  ...     0.999998  0.999998  0.999998    0.999998   0.999998    0.000000        0.000000       0.000000        NaN        NaN\n",
      "2399999  201812  TRAIN_399999       2    40대       E          1             1              0        1            1  ...     0.999998  0.593160  0.999998    0.999998   0.999998   -0.039845       -0.002659       0.000000   0.000000   0.000000\n",
      "\n",
      "[2400000 rows x 858 columns]\n"
     ]
    }
   ],
   "source": [
    "train = pd.read_csv('train/base_train.csv')\n",
    "# test = pd.read_csv('test/base_test_merged_seg.csv')\n",
    "print(train)"
   ]
  },
  {
   "cell_type": "code",
   "execution_count": 9,
   "id": "3a9ed009",
   "metadata": {},
   "outputs": [],
   "source": [
    "seg = ['A', 'B', 'C', 'D', 'E']\n",
    "\n",
    "for g in seg:\n",
    "    df_seg = train[train['Segment']==g].reset_index(drop=True)\n",
    "    df_seg.to_csv(f'train/base_train_seg_{g}.csv', index=False)"
   ]
  },
  {
   "cell_type": "code",
   "execution_count": 28,
   "id": "70d00886",
   "metadata": {},
   "outputs": [],
   "source": [
    "def mk_df_info(df):\n",
    "    print(f'df shape: {df.shape}')\n",
    "\n",
    "    dtype = df.dtypes\n",
    "    nunique = df.nunique()\n",
    "    notnull_count = df.notna().sum()\n",
    "    nan_count = df.isna().sum()\n",
    "\n",
    "    df_info = pd.concat([dtype, nunique, notnull_count, nan_count], axis=1)\n",
    "    df_info.columns = ['dtype', 'nunique', 'notnull', 'n_nan']\n",
    "\n",
    "    df_info = df_info.join(df.describe().T)\n",
    "    df_info = df_info.reset_index().rename(columns={'index': 'columns'})\n",
    "\n",
    "    # ---- 여기만 추가 ----\n",
    "    unique_values = []\n",
    "    for col in df_info['columns']:\n",
    "        if nunique[col] <= 30:\n",
    "            vals = pd.unique(df[col].dropna())     # NaN 제거\n",
    "            unique_values.append(', '.join(map(str, vals)))\n",
    "        else:\n",
    "            unique_values.append(pd.NA)\n",
    "    df_info['unique_values'] = unique_values\n",
    "    # --------------------\n",
    "\n",
    "    return df_info"
   ]
  },
  {
   "cell_type": "code",
   "execution_count": 32,
   "id": "51d17be5",
   "metadata": {},
   "outputs": [],
   "source": [
    "import pandas as pd\n",
    "\n",
    "def mk_df_info(df):\n",
    "    print(f'df shape: {df.shape}')\n",
    "\n",
    "    dtype = df.dtypes\n",
    "    nunique = df.nunique()\n",
    "    notnull_count = df.notna().sum()\n",
    "    nan_count = df.isna().sum()\n",
    "\n",
    "    df_info = pd.concat([dtype, nunique, notnull_count, nan_count], axis=1)\n",
    "    df_info.columns = ['dtype', 'nunique', 'notnull', 'n_nan']\n",
    "\n",
    "    df_info = df_info.join(df.describe().T)\n",
    "    df_info = df_info.reset_index().rename(columns={'index': 'columns'})\n",
    "\n",
    "    # ---- 추가: 고유값 목록 + 각 값 비율(%) ----\n",
    "    unique_values = []\n",
    "    value_ratios = []  # 새 컬럼\n",
    "\n",
    "    for col in df_info['columns']:\n",
    "        if nunique[col] <= 30:\n",
    "            s = df[col].dropna()  # NaN 제외 기준\n",
    "            # 만약 NaN 포함 비율 원하면: s = df[col]  그리고 아래 value_counts(normalize=True, dropna=False)\n",
    "            vals = pd.unique(s)\n",
    "            unique_values.append(', '.join(map(str, vals)))\n",
    "\n",
    "            vc = s.value_counts(normalize=True)  # 비율(0~1)\n",
    "            ratios_str = ', '.join([f'{str(k)}: {v*100:.1f}%' for k, v in vc.items()])\n",
    "            value_ratios.append(ratios_str)\n",
    "        else:\n",
    "            unique_values.append(pd.NA)\n",
    "            value_ratios.append(pd.NA)\n",
    "\n",
    "    df_info['unique_values'] = unique_values\n",
    "    df_info['value_ratios'] = value_ratios  # 맨 뒤 새 컬럼\n",
    "    # ---------------------------------------\n",
    "\n",
    "    return df_info\n"
   ]
  },
  {
   "cell_type": "code",
   "execution_count": 33,
   "id": "b72d45ec",
   "metadata": {},
   "outputs": [
    {
     "name": "stdout",
     "output_type": "stream",
     "text": [
      "df shape: (972, 858)\n",
      "            columns    dtype  nunique  notnull  n_nan  count           mean       std            min            25%            50%            75%            max                                   unique_values                                       value_ratios\n",
      "0              기준년월    int64        6      972      0  972.0  201809.500000  1.708704  201807.000000  201808.000000  201809.500000  201811.000000  201812.000000  201807, 201808, 201809, 201810, 201811, 201812  201807: 16.7%, 201808: 16.7%, 201809: 16.7%, 2...\n",
      "1                ID   object      162      972      0    NaN            NaN       NaN            NaN            NaN            NaN            NaN            NaN                                            <NA>                                               <NA>\n",
      "2            남녀구분코드    int64        2      972      0  972.0       1.290123  0.454053       1.000000       1.000000       1.000000       2.000000       2.000000                                            1, 2                                 1: 71.0%, 2: 29.0%\n",
      "3                연령   object        6      972      0    NaN            NaN       NaN            NaN            NaN            NaN            NaN            NaN                  40대, 50대, 30대, 70대이상, 60대, 20대  50대: 38.9%, 40대: 37.0%, 60대: 11.1%, 30대: 8.0%,...\n",
      "4           Segment   object        1      972      0    NaN            NaN       NaN            NaN            NaN            NaN            NaN            NaN                                               A                                          A: 100.0%\n",
      "..              ...      ...      ...      ...    ...    ...            ...       ...            ...            ...            ...            ...            ...                                             ...                                                ...\n",
      "853      변동률_잔액_B1M  float64      970      972      0  972.0      -0.047325  0.150346      -0.740749      -0.141840      -0.050963       0.041736       0.639408                                            <NA>                                               <NA>\n",
      "854  변동률_잔액_일시불_B1M  float64      958      972      0  972.0      -0.007230  0.188248      -1.999996      -0.100384      -0.007755       0.079491       1.999996                                            <NA>                                               <NA>\n",
      "855   변동률_잔액_CA_B1M  float64      227      972      0  972.0      -0.013129  0.113588      -1.999996       0.000000       0.000000       0.000000       0.117747                                            <NA>                                               <NA>\n",
      "856       혜택수혜율_R3M  float64      890      963      9  963.0       1.284488  0.838465      -0.584367       0.669760       1.266955       1.881859       4.112317                                            <NA>                                               <NA>\n",
      "857       혜택수혜율_B0M  float64      887      959     13  959.0       1.357080  0.938119      -1.081817       0.707636       1.373217       2.009943       4.920451                                            <NA>                                               <NA>\n",
      "\n",
      "[858 rows x 15 columns]\n",
      "df shape: (144, 858)\n",
      "            columns    dtype  nunique  notnull  n_nan  count           mean       std            min            25%            50%            75%            max                                      unique_values                                       value_ratios\n",
      "0              기준년월    int64        6      144      0  144.0  201809.500000  1.713786  201807.000000  201808.000000  201809.500000  201811.000000  201812.000000     201807, 201808, 201809, 201810, 201811, 201812  201807: 16.7%, 201808: 16.7%, 201809: 16.7%, 2...\n",
      "1                ID   object       24      144      0    NaN            NaN       NaN            NaN            NaN            NaN            NaN            NaN  TRAIN_033783, TRAIN_061321, TRAIN_061664, TRAI...  TRAIN_033783: 4.2%, TRAIN_061321: 4.2%, TRAIN_...\n",
      "2            남녀구분코드    int64        2      144      0  144.0       1.458333  0.500000       1.000000       1.000000       1.000000       2.000000       2.000000                                               2, 1                                 1: 54.2%, 2: 45.8%\n",
      "3                연령   object        4      144      0    NaN            NaN       NaN            NaN            NaN            NaN            NaN            NaN                                 40대, 50대, 30대, 20대      40대: 33.3%, 50대: 33.3%, 30대: 29.2%, 20대: 4.2%\n",
      "4           Segment   object        1      144      0    NaN            NaN       NaN            NaN            NaN            NaN            NaN            NaN                                                  B                                          B: 100.0%\n",
      "..              ...      ...      ...      ...    ...    ...            ...       ...            ...            ...            ...            ...            ...                                                ...                                                ...\n",
      "853      변동률_잔액_B1M  float64      144      144      0  144.0      -0.006460  0.140114      -0.425880      -0.098883      -0.010046       0.083468       0.474508                                               <NA>                                               <NA>\n",
      "854  변동률_잔액_일시불_B1M  float64      144      144      0  144.0       0.040312  0.223268      -0.450538      -0.068226       0.026939       0.122641       1.999996                                               <NA>                                               <NA>\n",
      "855   변동률_잔액_CA_B1M  float64       46      144      0  144.0      -0.008916  0.029281      -0.137676       0.000000       0.000000       0.000000       0.081250                                               <NA>                                               <NA>\n",
      "856       혜택수혜율_R3M  float64      133      144      0  144.0       1.256218  1.000904      -0.858374       0.381562       1.417688       2.018891       3.540145                                               <NA>                                               <NA>\n",
      "857       혜택수혜율_B0M  float64      133      144      0  144.0       1.345449  1.019712      -1.437720       0.733609       1.320250       1.924411       4.616939                                               <NA>                                               <NA>\n",
      "\n",
      "[858 rows x 15 columns]\n",
      "df shape: (127590, 858)\n",
      "            columns    dtype  nunique  notnull  n_nan     count           mean       std            min            25%            50%            75%            max                                   unique_values                                       value_ratios\n",
      "0              기준년월    int64        6   127590      0  127590.0  201809.500000  1.707832  201807.000000  201808.000000  201809.500000  201811.000000  201812.000000  201807, 201808, 201809, 201810, 201811, 201812  201807: 16.7%, 201808: 16.7%, 201809: 16.7%, 2...\n",
      "1                ID   object    21265   127590      0       NaN            NaN       NaN            NaN            NaN            NaN            NaN            NaN                                            <NA>                                               <NA>\n",
      "2            남녀구분코드    int64        2   127590      0  127590.0       1.385328  0.486675       1.000000       1.000000       1.000000       2.000000       2.000000                                            1, 2                                 1: 61.5%, 2: 38.5%\n",
      "3                연령   object        6   127590      0       NaN            NaN       NaN            NaN            NaN            NaN            NaN            NaN                  30대, 50대, 60대, 40대, 20대, 70대이상  40대: 37.9%, 30대: 25.3%, 50대: 23.3%, 60대: 7.7%,...\n",
      "4           Segment   object        1   127590      0       NaN            NaN       NaN            NaN            NaN            NaN            NaN            NaN                                               C                                          C: 100.0%\n",
      "..              ...      ...      ...      ...    ...       ...            ...       ...            ...            ...            ...            ...            ...                                             ...                                                ...\n",
      "853      변동률_잔액_B1M  float64   122317   127590      0  127590.0      -0.007943  0.185044      -1.999996      -0.100659      -0.006475       0.076616       1.999996                                            <NA>                                               <NA>\n",
      "854  변동률_잔액_일시불_B1M  float64   118068   127590      0  127590.0       0.008436  0.219224      -1.999996      -0.087574       0.000000       0.091887       1.999996                                            <NA>                                               <NA>\n",
      "855   변동률_잔액_CA_B1M  float64    16603   127590      0  127590.0      -0.006527  0.089646      -1.999996       0.000000       0.000000       0.000000       1.999996                                            <NA>                                               <NA>\n",
      "856       혜택수혜율_R3M  float64    95908   122504   5086  122504.0       1.303965  4.050922      -2.043888       0.000000       1.139666       1.887430      99.999800                                            <NA>                                               <NA>\n",
      "857       혜택수혜율_B0M  float64    91664   121244   6346  121244.0       1.584308  4.877474      -2.185794       0.000000       1.404564       2.169873      99.999800                                            <NA>                                               <NA>\n",
      "\n",
      "[858 rows x 15 columns]\n"
     ]
    },
    {
     "name": "stderr",
     "output_type": "stream",
     "text": [
      "C:\\Users\\Admin\\AppData\\Local\\Temp\\ipykernel_14352\\1501137549.py:4: DtypeWarning: Columns (299,384) have mixed types. Specify dtype option on import or set low_memory=False.\n",
      "  df_seg = pd.read_csv(f'train/base_train_seg_{g}.csv')\n"
     ]
    },
    {
     "name": "stdout",
     "output_type": "stream",
     "text": [
      "df shape: (349242, 858)\n",
      "            columns    dtype  nunique  notnull  n_nan     count           mean       std            min            25%            50%            75%            max                                   unique_values                                       value_ratios\n",
      "0              기준년월    int64        6   349242      0  349242.0  201809.500000  1.707828  201807.000000  201808.000000  201809.500000  201811.000000  201812.000000  201807, 201808, 201809, 201810, 201811, 201812  201807: 16.7%, 201808: 16.7%, 201809: 16.7%, 2...\n",
      "1                ID   object    58207   349242      0       NaN            NaN       NaN            NaN            NaN            NaN            NaN            NaN                                            <NA>                                               <NA>\n",
      "2            남녀구분코드    int64        2   349242      0  349242.0       1.432439  0.495415       1.000000       1.000000       1.000000       2.000000       2.000000                                            2, 1                                 1: 56.8%, 2: 43.2%\n",
      "3                연령   object        6   349242      0       NaN            NaN       NaN            NaN            NaN            NaN            NaN            NaN                  40대, 30대, 50대, 60대, 20대, 70대이상  40대: 33.2%, 30대: 29.3%, 50대: 20.3%, 60대: 7.6%,...\n",
      "4           Segment   object        1   349242      0       NaN            NaN       NaN            NaN            NaN            NaN            NaN            NaN                                               D                                          D: 100.0%\n",
      "..              ...      ...      ...      ...    ...       ...            ...       ...            ...            ...            ...            ...            ...                                             ...                                                ...\n",
      "853      변동률_잔액_B1M  float64   327033   349242      0  349242.0      -0.007907  0.190200      -1.999996      -0.097309      -0.002837       0.073016       1.999996                                            <NA>                                               <NA>\n",
      "854  변동률_잔액_일시불_B1M  float64   315291   349242      0  349242.0       0.003712  0.229620      -1.999996      -0.088819       0.000000       0.082756       1.999996                                            <NA>                                               <NA>\n",
      "855   변동률_잔액_CA_B1M  float64    24475   349242      0  349242.0      -0.004978  0.094625      -1.999996       0.000000       0.000000       0.000000       1.999996                                            <NA>                                               <NA>\n",
      "856       혜택수혜율_R3M  float64   243327   331145  18097  331145.0       1.557135  6.596973      -2.048194       0.000000       1.040818       1.902014      99.999800                                            <NA>                                               <NA>\n",
      "857       혜택수혜율_B0M  float64   226080   326855  22387  326855.0       1.951144  7.569198      -2.341460       0.000000       1.438919       2.306696      99.999800                                            <NA>                                               <NA>\n",
      "\n",
      "[858 rows x 15 columns]\n"
     ]
    },
    {
     "name": "stderr",
     "output_type": "stream",
     "text": [
      "C:\\Users\\Admin\\AppData\\Local\\Temp\\ipykernel_14352\\1501137549.py:4: DtypeWarning: Columns (285,287,289,291,293,295,297,299,303,305,384,744) have mixed types. Specify dtype option on import or set low_memory=False.\n",
      "  df_seg = pd.read_csv(f'train/base_train_seg_{g}.csv')\n"
     ]
    },
    {
     "name": "stdout",
     "output_type": "stream",
     "text": [
      "df shape: (1922052, 858)\n",
      "            columns    dtype  nunique  notnull   n_nan      count           mean        std            min            25%            50%            75%            max                                   unique_values                                       value_ratios\n",
      "0              기준년월    int64        6  1922052       0  1922052.0  201809.500000   1.707826  201807.000000  201808.000000  201809.500000  201811.000000  201812.000000  201807, 201808, 201809, 201810, 201811, 201812  201807: 16.7%, 201808: 16.7%, 201809: 16.7%, 2...\n",
      "1                ID   object   320342  1922052       0        NaN            NaN        NaN            NaN            NaN            NaN            NaN            NaN                                            <NA>                                               <NA>\n",
      "2            남녀구분코드    int64        2  1922052       0  1922052.0       1.491222   0.499923       1.000000       1.000000       1.000000       2.000000       2.000000                                            1, 2                                 1: 50.9%, 2: 49.1%\n",
      "3                연령   object        6  1922052       0        NaN            NaN        NaN            NaN            NaN            NaN            NaN            NaN                  30대, 40대, 20대, 60대, 50대, 70대이상  40대: 29.6%, 30대: 23.8%, 50대: 23.2%, 60대: 10.9%...\n",
      "4           Segment   object        1  1922052       0        NaN            NaN        NaN            NaN            NaN            NaN            NaN            NaN                                               E                                          E: 100.0%\n",
      "..              ...      ...      ...      ...     ...        ...            ...        ...            ...            ...            ...            ...            ...                                             ...                                                ...\n",
      "853      변동률_잔액_B1M  float64  1263232  1922052       0  1922052.0      -0.010577   0.254343      -1.999996      -0.064729       0.000000       0.024149       1.999996                                            <NA>                                               <NA>\n",
      "854  변동률_잔액_일시불_B1M  float64  1164257  1922052       0  1922052.0       0.002761   0.299142      -1.999996      -0.042271       0.000000       0.031683       1.999996                                            <NA>                                               <NA>\n",
      "855   변동률_잔액_CA_B1M  float64    27725  1922052       0  1922052.0      -0.002806   0.075584      -1.999996       0.000000       0.000000       0.000000       1.999996                                            <NA>                                               <NA>\n",
      "856       혜택수혜율_R3M  float64   763107  1456498  465554  1456498.0       5.785036  20.518094      -2.349918       0.000000       0.553236       2.392773      99.999800                                            <NA>                                               <NA>\n",
      "857       혜택수혜율_B0M  float64   645326  1395276  526776  1395276.0       6.719848  22.115427      -2.607296       0.000000       0.463993       2.953141      99.999800                                            <NA>                                               <NA>\n",
      "\n",
      "[858 rows x 15 columns]\n"
     ]
    }
   ],
   "source": [
    "seg = ['A', 'B', 'C', 'D', 'E']\n",
    "\n",
    "for g in seg:\n",
    "    df_seg = pd.read_csv(f'train/base_train_seg_{g}.csv')\n",
    "    df_info = mk_df_info(df_seg)\n",
    "    print(df_info)\n",
    "    df_info.to_csv(f'base_train_info_{g}.csv', index=False, encoding='cp949')"
   ]
  },
  {
   "cell_type": "code",
   "execution_count": null,
   "id": "b60364da",
   "metadata": {},
   "outputs": [],
   "source": [
    "seg = ['A', 'B', 'C', 'D', 'E']\n",
    "\n",
    "for g in seg:\n",
    "    df_seg = pd.read_csv(f'base_train_seg_{g}.csv')\n",
    "    print(df_info)\n",
    "\n",
    "    "
   ]
  },
  {
   "cell_type": "code",
   "execution_count": 39,
   "id": "3d3499fe",
   "metadata": {},
   "outputs": [
    {
     "name": "stdout",
     "output_type": "stream",
     "text": [
      "merged shape: (858, 71)\n"
     ]
    }
   ],
   "source": [
    "import pandas as pd\n",
    "\n",
    "seg = ['A', 'B', 'C', 'D', 'E']   # 읽을 순서 그대로 접미사 사용\n",
    "key = 'columns'                    # 조인 키\n",
    "\n",
    "merged = None\n",
    "base_col_order = None             # 첫 파일의 컬럼 순서(키 제외)를 기억\n",
    "\n",
    "for g in seg:\n",
    "    df = pd.read_csv(f'seg_data_info/base_train_info_{g}.csv', encoding='cp949')\n",
    "\n",
    "    # 첫 파일의 컬럼 순서(키 제외)를 기록 → 최종 정렬에 사용\n",
    "    if base_col_order is None:\n",
    "        base_col_order = [c for c in df.columns if c != key]\n",
    "\n",
    "    # 키 제외 모든 컬럼에 _{seg} 접미사 부여\n",
    "    df = df.rename(columns={c: f'{c}_{g}' for c in df.columns if c != key})\n",
    "\n",
    "    # 머지\n",
    "    if merged is None:\n",
    "        merged = df\n",
    "    else:\n",
    "        merged = merged.merge(df, on=key, how='left')\n",
    "\n",
    "# ===== 동일 이름끼리 묶어서 컬럼 순서 정렬 =====\n",
    "final_cols = [key]\n",
    "for base in base_col_order:              # 예: mean, std, ...\n",
    "    for g in seg:                        # 예: A, B, C, ...\n",
    "        col = f'{base}_{g}'\n",
    "        if col in merged.columns:        # 혹시 없는 경우 스킵\n",
    "            final_cols.append(col)\n",
    "\n",
    "# 혹시 남은(예상 밖의) 컬럼이 있으면 뒤에 붙이기\n",
    "final_cols += [c for c in merged.columns if c not in final_cols]\n",
    "\n",
    "merged = merged[final_cols]\n",
    "\n",
    "print(\"merged shape:\", merged.shape)\n",
    "merged.to_csv(\"merged_by_column.csv\", index=False, encoding='cp949')\n"
   ]
  },
  {
   "cell_type": "code",
   "execution_count": 3,
   "id": "77e50297",
   "metadata": {},
   "outputs": [
    {
     "name": "stdout",
     "output_type": "stream",
     "text": [
      "            columns  dtype_A  dtype_B  dtype_C  dtype_D  dtype_E  nunique_A  nunique_B  nunique_C  nunique_D  ...                                 unique_values_A                                    unique_values_B                                 unique_values_C                                 unique_values_D                                 unique_values_E                                     value_ratios_A                                     value_ratios_B                                     value_ratios_C                                     value_ratios_D                                     value_ratios_E\n",
      "0              기준년월    int64    int64    int64    int64    int64          6          6          6          6  ...  201807, 201808, 201809, 201810, 201811, 201812     201807, 201808, 201809, 201810, 201811, 201812  201807, 201808, 201809, 201810, 201811, 201812  201807, 201808, 201809, 201810, 201811, 201812  201807, 201808, 201809, 201810, 201811, 201812  201807: 16.7%, 201808: 16.7%, 201809: 16.7%, 2...  201807: 16.7%, 201808: 16.7%, 201809: 16.7%, 2...  201807: 16.7%, 201808: 16.7%, 201809: 16.7%, 2...  201807: 16.7%, 201808: 16.7%, 201809: 16.7%, 2...  201807: 16.7%, 201808: 16.7%, 201809: 16.7%, 2...\n",
      "1                ID   object   object   object   object   object        162         24      21265      58207  ...                                             NaN  TRAIN_033783, TRAIN_061321, TRAIN_061664, TRAI...                                             NaN                                             NaN                                             NaN                                                NaN  TRAIN_033783: 4.2%, TRAIN_061321: 4.2%, TRAIN_...                                                NaN                                                NaN                                                NaN\n",
      "2            남녀구분코드    int64    int64    int64    int64    int64          2          2          2          2  ...                                            1, 2                                               2, 1                                            1, 2                                            2, 1                                            1, 2                                 1: 71.0%, 2: 29.0%                                 1: 54.2%, 2: 45.8%                                 1: 61.5%, 2: 38.5%                                 1: 56.8%, 2: 43.2%                                 1: 50.9%, 2: 49.1%\n",
      "3                연령   object   object   object   object   object          6          4          6          6  ...                  40대, 50대, 30대, 70대이상, 60대, 20대                                 40대, 50대, 30대, 20대                  30대, 50대, 60대, 40대, 20대, 70대이상                  40대, 30대, 50대, 60대, 20대, 70대이상                  30대, 40대, 20대, 60대, 50대, 70대이상  50대: 38.9%, 40대: 37.0%, 60대: 11.1%, 30대: 8.0%,...      40대: 33.3%, 50대: 33.3%, 30대: 29.2%, 20대: 4.2%  40대: 37.9%, 30대: 25.3%, 50대: 23.3%, 60대: 7.7%,...  40대: 33.2%, 30대: 29.3%, 50대: 20.3%, 60대: 7.6%,...  40대: 29.6%, 30대: 23.8%, 50대: 23.2%, 60대: 10.9%...\n",
      "4           Segment   object   object   object   object   object          1          1          1          1  ...                                               A                                                  B                                               C                                               D                                               E                                          A: 100.0%                                          B: 100.0%                                          C: 100.0%                                          D: 100.0%                                          E: 100.0%\n",
      "..              ...      ...      ...      ...      ...      ...        ...        ...        ...        ...  ...                                             ...                                                ...                                             ...                                             ...                                             ...                                                ...                                                ...                                                ...                                                ...                                                ...\n",
      "853      변동률_잔액_B1M  float64  float64  float64  float64  float64        970        144     122317     327033  ...                                             NaN                                                NaN                                             NaN                                             NaN                                             NaN                                                NaN                                                NaN                                                NaN                                                NaN                                                NaN\n",
      "854  변동률_잔액_일시불_B1M  float64  float64  float64  float64  float64        958        144     118068     315291  ...                                             NaN                                                NaN                                             NaN                                             NaN                                             NaN                                                NaN                                                NaN                                                NaN                                                NaN                                                NaN\n",
      "855   변동률_잔액_CA_B1M  float64  float64  float64  float64  float64        227         46      16603      24475  ...                                             NaN                                                NaN                                             NaN                                             NaN                                             NaN                                                NaN                                                NaN                                                NaN                                                NaN                                                NaN\n",
      "856       혜택수혜율_R3M  float64  float64  float64  float64  float64        890        133      95908     243327  ...                                             NaN                                                NaN                                             NaN                                             NaN                                             NaN                                                NaN                                                NaN                                                NaN                                                NaN                                                NaN\n",
      "857       혜택수혜율_B0M  float64  float64  float64  float64  float64        887        133      91664     226080  ...                                             NaN                                                NaN                                             NaN                                             NaN                                             NaN                                                NaN                                                NaN                                                NaN                                                NaN                                                NaN\n",
      "\n",
      "[858 rows x 71 columns]\n",
      "               columns\n",
      "0           정상청구원금_B5M\n",
      "1           카드론이용금액_누적\n",
      "2                이용금액대\n",
      "3      최대이용금액_일시불_R12M\n",
      "4        이용금액_오프라인_B0M\n",
      "5         이용건수_신용_R12M\n",
      "6   연속유실적개월수_기본_24M_카드\n",
      "7         이용금액_체크_R12M\n",
      "8              입회일자_신용\n",
      "9        이용금액_일시불_R12M\n",
      "10       이용건수_일시불_R12M\n",
      "11          연체입금원금_B5M\n",
      "12        이용건수_신판_R12M\n",
      "13          정상입금원금_B5M\n",
      "14            월상환론한도금액\n",
      "15           최종이용일자_CA\n",
      "16          정상청구원금_B2M\n",
      "17        월중평잔_일시불_B0M\n",
      "18        이용건수_일시불_R6M\n",
      "19          정상청구원금_B0M\n"
     ]
    }
   ],
   "source": [
    "df = pd.read_csv('seg_data_info/base_train_merged_by_column.csv', encoding='cp949')\n",
    "print(df)\n",
    "top20 = pd.read_csv('top20_shap.csv')\n",
    "# top20 = top20.rename(columns={'컬럼':'columns'})\n",
    "# top20.loc[12, \"columns\"] = \"최종이용일자_CA\"\n",
    "print(top20)"
   ]
  },
  {
   "cell_type": "code",
   "execution_count": 4,
   "id": "9bb8c1f9",
   "metadata": {},
   "outputs": [
    {
     "name": "stdout",
     "output_type": "stream",
     "text": [
      "               columns  index dtype_A dtype_B dtype_C dtype_D dtype_E  nunique_A  nunique_B  nunique_C  ...                          unique_values_A                                    unique_values_B                                    unique_values_C                                    unique_values_D                                    unique_values_E                                     value_ratios_A                                     value_ratios_B                                     value_ratios_C                                     value_ratios_D                                     value_ratios_E\n",
      "0           정상청구원금_B5M    497   int64   int64   int64   int64   int64        966        142      40230  ...                                      NaN                                                NaN                                                NaN                                                NaN                                                NaN                                                NaN                                                NaN                                                NaN                                                NaN                                                NaN\n",
      "1           카드론이용금액_누적    382   int64   int64   int64   int64   int64         67         14       6952  ...                                      NaN  599520, 150903, 0, 497004, 61527, 147397, 4045...                                                NaN                                                NaN                                                NaN                                                NaN  0: 45.8%, 599520: 4.2%, 150903: 4.2%, 497004: ...                                                NaN                                                NaN                                                NaN\n",
      "2                이용금액대    521  object  object  object  object  object          1          1          6  ...                                01.100만원+                                          01.100만원+  01.100만원+, 09.미사용, 05.10만원-, 04.10만원+, 02.50만원...  01.100만원+, 04.10만원+, 02.50만원+, 03.30만원+, 09.미사...  03.30만원+, 09.미사용, 04.10만원+, 01.100만원+, 02.50만원...                                  01.100만원+: 100.0%                                  01.100만원+: 100.0%  01.100만원+: 75.9%, 02.50만원+: 11.3%, 04.10만원+: 3...  01.100만원+: 46.8%, 02.50만원+: 30.4%, 04.10만원+: 6...  09.미사용: 24.3%, 05.10만원-: 22.8%, 02.50만원+: 17.7...\n",
      "3      최대이용금액_일시불_R12M    171   int64   int64   int64   int64   int64        970        144      62316  ...                                      NaN                                                NaN                                                NaN                                                NaN                                                NaN                                                NaN                                                NaN                                                NaN                                                NaN                                                NaN\n",
      "4        이용금액_오프라인_B0M    401   int64   int64   int64   int64   int64        918        143      13959  ...                                      NaN                                                NaN                                                NaN                                                NaN                                                NaN                                                NaN                                                NaN                                                NaN                                                NaN                                                NaN\n",
      "5         이용건수_신용_R12M    153   int64   int64   int64   int64   int64        562        124       1033  ...                                      NaN                                                NaN                                                NaN                                                NaN                                                NaN                                                NaN                                                NaN                                                NaN                                                NaN                                                NaN\n",
      "6   연속유실적개월수_기본_24M_카드    506   int64   int64   int64   int64   int64         11          4         20  ...  24, 12, 17, 0, 8, 5, 21, 20, 13, 11, 10                                      24, 17, 21, 5  8, 24, 0, 5, 17, 1, 12, 2, 20, 13, 11, 9, 21, ...  13, 5, 24, 17, 0, 2, 8, 1, 20, 21, 12, 4, 11, ...  12, 0, 24, 17, 1, 8, 13, 5, 2, 20, 21, 4, 11, ...  24: 91.3%, 17: 4.3%, 5: 1.0%, 13: 1.0%, 20: 0....             24: 88.2%, 17: 7.6%, 21: 3.5%, 5: 0.7%  24: 76.2%, 17: 8.2%, 0: 5.6%, 5: 2.9%, 8: 2.0%...  24: 65.8%, 17: 12.2%, 0: 7.9%, 5: 3.9%, 8: 3.2...  0: 29.7%, 24: 22.8%, 8: 13.6%, 17: 13.5%, 5: 7...\n",
      "7         이용금액_체크_R12M    169   int64   int64   int64   int64   int64        464         79      34807  ...                                      NaN                                                NaN                                                NaN                                                NaN                                                NaN                                                NaN                                                NaN                                                NaN                                                NaN                                                NaN\n",
      "8              입회일자_신용     11   int64   int64   int64   int64   int64        117         21        318  ...                                      NaN  19960601, 19970401, 20100201, 20131201, 201806...                                                NaN                                                NaN                                                NaN                                                NaN  20180601: 8.3%, 20000701: 8.3%, 20080801: 8.3%...                                                NaN                                                NaN                                                NaN\n",
      "9        이용금액_일시불_R12M    163   int64   int64   int64   int64   int64        971        144     108067  ...                                      NaN                                                NaN                                                NaN                                                NaN                                                NaN                                                NaN                                                NaN                                                NaN                                                NaN                                                NaN\n",
      "10       이용건수_일시불_R12M    155   int64   int64   int64   int64   int64        548        128       1004  ...                                      NaN                                                NaN                                                NaN                                                NaN                                                NaN                                                NaN                                                NaN                                                NaN                                                NaN                                                NaN\n",
      "11          연체입금원금_B5M    500   int64   int64   int64   int64   int64        279         80      20711  ...                                      NaN                                                NaN                                                NaN                                                NaN                                                NaN                                                NaN                                                NaN                                                NaN                                                NaN                                                NaN\n",
      "12        이용건수_신판_R12M    154   int64   int64   int64   int64   int64        566        127       1029  ...                                      NaN                                                NaN                                                NaN                                                NaN                                                NaN                                                NaN                                                NaN                                                NaN                                                NaN                                                NaN\n",
      "13          정상입금원금_B5M    499   int64   int64   int64   int64   int64        933        107      38963  ...                                      NaN                                                NaN                                                NaN                                                NaN                                                NaN                                                NaN                                                NaN                                                NaN                                                NaN                                                NaN\n",
      "14            월상환론한도금액     82   int64   int64   int64   int64   int64        492         55      28011  ...                                      NaN                                                NaN                                                NaN                                                NaN                                                NaN                                                NaN                                                NaN                                                NaN                                                NaN                                                NaN\n",
      "15           최종이용일자_CA    120   int64   int64   int64   int64   int64        144         51       2364  ...                                      NaN                                                NaN                                                NaN                                                NaN                                                NaN                                                NaN                                                NaN                                                NaN                                                NaN                                                NaN\n",
      "16          정상청구원금_B2M    493   int64   int64   int64   int64   int64        960        144      37398  ...                                      NaN                                                NaN                                                NaN                                                NaN                                                NaN                                                NaN                                                NaN                                                NaN                                                NaN                                                NaN\n",
      "17        월중평잔_일시불_B0M    572   int64   int64   int64   int64   int64        951        144      37858  ...                                      NaN                                                NaN                                                NaN                                                NaN                                                NaN                                                NaN                                                NaN                                                NaN                                                NaN                                                NaN\n",
      "18        이용건수_일시불_R6M    191   int64   int64   int64   int64   int64        413        115        553  ...                                      NaN                                                NaN                                                NaN                                                NaN                                                NaN                                                NaN                                                NaN                                                NaN                                                NaN                                                NaN\n",
      "19          정상청구원금_B0M    489   int64   int64   int64   int64   int64        956        144      35913  ...                                      NaN                                                NaN                                                NaN                                                NaN                                                NaN                                                NaN                                                NaN                                                NaN                                                NaN                                                NaN\n",
      "\n",
      "[20 rows x 72 columns]\n"
     ]
    }
   ],
   "source": [
    "df = df.reset_index()\n",
    "merged_df = top20.merge(df, how='left', on='columns')\n",
    "print(merged_df)\n",
    "# merged_df.to_csv('top20_shap_info.csv', encoding='cp949', index=False)"
   ]
  }
 ],
 "metadata": {
  "kernelspec": {
   "display_name": "ML",
   "language": "python",
   "name": "python3"
  },
  "language_info": {
   "codemirror_mode": {
    "name": "ipython",
    "version": 3
   },
   "file_extension": ".py",
   "mimetype": "text/x-python",
   "name": "python",
   "nbconvert_exporter": "python",
   "pygments_lexer": "ipython3",
   "version": "3.12.11"
  }
 },
 "nbformat": 4,
 "nbformat_minor": 5
}
